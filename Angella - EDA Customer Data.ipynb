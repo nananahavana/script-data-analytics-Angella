{
 "cells": [
  {
   "cell_type": "markdown",
   "id": "15e744a1",
   "metadata": {},
   "source": [
    "## Baca Data"
   ]
  },
  {
   "cell_type": "code",
   "execution_count": 1,
   "id": "74fb2aea",
   "metadata": {},
   "outputs": [],
   "source": [
    "# Library yang dibutuhkan\n",
    "import numpy as np\n",
    "import pandas as pd\n",
    "import matplotlib.pyplot as plt\n",
    "import seaborn as sns"
   ]
  },
  {
   "cell_type": "code",
   "execution_count": 59,
   "id": "2a427496",
   "metadata": {},
   "outputs": [],
   "source": [
    "# Membaca dataset\n",
    "customer_data = pd.read_csv('customer-data.csv')"
   ]
  },
  {
   "cell_type": "code",
   "execution_count": 60,
   "id": "7c3391d1",
   "metadata": {},
   "outputs": [
    {
     "name": "stdout",
     "output_type": "stream",
     "text": [
      "id                       int64\n",
      "age                     object\n",
      "gender                  object\n",
      "race                    object\n",
      "driving_experience      object\n",
      "education               object\n",
      "income                  object\n",
      "credit_score           float64\n",
      "vehicle_ownership         bool\n",
      "vehicle_year            object\n",
      "married                   bool\n",
      "children                  bool\n",
      "postal_code              int64\n",
      "annual_mileage         float64\n",
      "vehicle_type            object\n",
      "speeding_violations      int64\n",
      "DUIs                     int64\n",
      "past_accidents           int64\n",
      "outcome                   bool\n",
      "dtype: object\n"
     ]
    }
   ],
   "source": [
    "# Informasi tipe dataset\n",
    "print(customer_data.dtypes)"
   ]
  },
  {
   "cell_type": "code",
   "execution_count": 61,
   "id": "afe43ad6",
   "metadata": {},
   "outputs": [
    {
     "name": "stdout",
     "output_type": "stream",
     "text": [
      "id                       0\n",
      "age                      0\n",
      "gender                   0\n",
      "race                     0\n",
      "driving_experience       0\n",
      "education                0\n",
      "income                   0\n",
      "credit_score           982\n",
      "vehicle_ownership        0\n",
      "vehicle_year             0\n",
      "married                  0\n",
      "children                 0\n",
      "postal_code              0\n",
      "annual_mileage         957\n",
      "vehicle_type             0\n",
      "speeding_violations      0\n",
      "DUIs                     0\n",
      "past_accidents           0\n",
      "outcome                  0\n",
      "dtype: int64\n"
     ]
    }
   ],
   "source": [
    "# Liat NA\n",
    "missing_na = pd.isnull(customer_data).sum()\n",
    "print(missing_na)"
   ]
  },
  {
   "cell_type": "code",
   "execution_count": 62,
   "id": "8a3efbd6",
   "metadata": {},
   "outputs": [],
   "source": [
    "# bikin kolom baru 'claim_rate' berdasarkan kolom 'outcome'\n",
    "customer_data['claim_rate'] = np.where(customer_data['outcome']==True,1,0)"
   ]
  },
  {
   "cell_type": "markdown",
   "id": "aa4943d4",
   "metadata": {},
   "source": [
    "## Mengolah Data Children"
   ]
  },
  {
   "cell_type": "code",
   "execution_count": 63,
   "id": "5a2b3076",
   "metadata": {},
   "outputs": [
    {
     "name": "stdout",
     "output_type": "stream",
     "text": [
      "object\n"
     ]
    }
   ],
   "source": [
    "# Mengubah tipe data kolom 'postal_code' menjadi kategori\n",
    "customer_data['children'] = customer_data['children'].astype('str')\n",
    "print(customer_data.dtypes['children'])"
   ]
  },
  {
   "cell_type": "code",
   "execution_count": 74,
   "id": "020e835b",
   "metadata": {},
   "outputs": [
    {
     "data": {
      "application/vnd.microsoft.datawrangler.viewer.v0+json": {
       "columns": [
        {
         "name": "children",
         "rawType": "object",
         "type": "string"
        },
        {
         "name": "False",
         "rawType": "int64",
         "type": "integer"
        },
        {
         "name": "True",
         "rawType": "int64",
         "type": "integer"
        }
       ],
       "ref": "fa03dc47-1fb3-43ca-b1fd-0cdc31ebe7a5",
       "rows": [
        [
         "False",
         "1637",
         "1475"
        ],
        [
         "True",
         "5230",
         "1658"
        ]
       ],
       "shape": {
        "columns": 2,
        "rows": 2
       }
      },
      "text/html": [
       "<div>\n",
       "<style scoped>\n",
       "    .dataframe tbody tr th:only-of-type {\n",
       "        vertical-align: middle;\n",
       "    }\n",
       "\n",
       "    .dataframe tbody tr th {\n",
       "        vertical-align: top;\n",
       "    }\n",
       "\n",
       "    .dataframe thead th {\n",
       "        text-align: right;\n",
       "    }\n",
       "</style>\n",
       "<table border=\"1\" class=\"dataframe\">\n",
       "  <thead>\n",
       "    <tr style=\"text-align: right;\">\n",
       "      <th>outcome</th>\n",
       "      <th>False</th>\n",
       "      <th>True</th>\n",
       "    </tr>\n",
       "    <tr>\n",
       "      <th>children</th>\n",
       "      <th></th>\n",
       "      <th></th>\n",
       "    </tr>\n",
       "  </thead>\n",
       "  <tbody>\n",
       "    <tr>\n",
       "      <th>False</th>\n",
       "      <td>1637</td>\n",
       "      <td>1475</td>\n",
       "    </tr>\n",
       "    <tr>\n",
       "      <th>True</th>\n",
       "      <td>5230</td>\n",
       "      <td>1658</td>\n",
       "    </tr>\n",
       "  </tbody>\n",
       "</table>\n",
       "</div>"
      ],
      "text/plain": [
       "outcome   False  True \n",
       "children              \n",
       "False      1637   1475\n",
       "True       5230   1658"
      ]
     },
     "execution_count": 74,
     "metadata": {},
     "output_type": "execute_result"
    }
   ],
   "source": [
    "tabel_1 = pd.crosstab(customer_data['children'], customer_data['outcome'])\n",
    "tabel_1"
   ]
  },
  {
   "cell_type": "markdown",
   "id": "12b4d178",
   "metadata": {},
   "source": [
    "Client yang memiliki anak dan berpotensi untuk mengajukan claim sebanyak 1658 (16.58%)\n",
    "\n",
    "Client yang memiliki anak dan berpotensi untuk tidak mengajukan claim sebanyak 5230 (52.3%)"
   ]
  },
  {
   "cell_type": "markdown",
   "id": "ac9408e0",
   "metadata": {},
   "source": [
    "## Mengolah Postal Code"
   ]
  },
  {
   "cell_type": "code",
   "execution_count": 65,
   "id": "684862f3",
   "metadata": {},
   "outputs": [
    {
     "name": "stdout",
     "output_type": "stream",
     "text": [
      "object\n"
     ]
    }
   ],
   "source": [
    "# Mengubah tipe data kolom 'postal_code' menjadi kategori\n",
    "customer_data['postal_code'] = customer_data['postal_code'].astype('str')\n",
    "print(customer_data.dtypes['postal_code'])\n"
   ]
  },
  {
   "cell_type": "code",
   "execution_count": 75,
   "id": "790f2a83",
   "metadata": {},
   "outputs": [
    {
     "data": {
      "application/vnd.microsoft.datawrangler.viewer.v0+json": {
       "columns": [
        {
         "name": "postal_code",
         "rawType": "object",
         "type": "string"
        },
        {
         "name": "False",
         "rawType": "int64",
         "type": "integer"
        },
        {
         "name": "True",
         "rawType": "int64",
         "type": "integer"
        }
       ],
       "ref": "c625d27d-9963-499a-9589-a8e60bceba79",
       "rows": [
        [
         "10238",
         "5054",
         "1886"
        ],
        [
         "21217",
         "0",
         "120"
        ],
        [
         "32765",
         "1529",
         "927"
        ],
        [
         "92101",
         "284",
         "200"
        ]
       ],
       "shape": {
        "columns": 2,
        "rows": 4
       }
      },
      "text/html": [
       "<div>\n",
       "<style scoped>\n",
       "    .dataframe tbody tr th:only-of-type {\n",
       "        vertical-align: middle;\n",
       "    }\n",
       "\n",
       "    .dataframe tbody tr th {\n",
       "        vertical-align: top;\n",
       "    }\n",
       "\n",
       "    .dataframe thead th {\n",
       "        text-align: right;\n",
       "    }\n",
       "</style>\n",
       "<table border=\"1\" class=\"dataframe\">\n",
       "  <thead>\n",
       "    <tr style=\"text-align: right;\">\n",
       "      <th>outcome</th>\n",
       "      <th>False</th>\n",
       "      <th>True</th>\n",
       "    </tr>\n",
       "    <tr>\n",
       "      <th>postal_code</th>\n",
       "      <th></th>\n",
       "      <th></th>\n",
       "    </tr>\n",
       "  </thead>\n",
       "  <tbody>\n",
       "    <tr>\n",
       "      <th>10238</th>\n",
       "      <td>5054</td>\n",
       "      <td>1886</td>\n",
       "    </tr>\n",
       "    <tr>\n",
       "      <th>21217</th>\n",
       "      <td>0</td>\n",
       "      <td>120</td>\n",
       "    </tr>\n",
       "    <tr>\n",
       "      <th>32765</th>\n",
       "      <td>1529</td>\n",
       "      <td>927</td>\n",
       "    </tr>\n",
       "    <tr>\n",
       "      <th>92101</th>\n",
       "      <td>284</td>\n",
       "      <td>200</td>\n",
       "    </tr>\n",
       "  </tbody>\n",
       "</table>\n",
       "</div>"
      ],
      "text/plain": [
       "outcome      False  True \n",
       "postal_code              \n",
       "10238         5054   1886\n",
       "21217            0    120\n",
       "32765         1529    927\n",
       "92101          284    200"
      ]
     },
     "execution_count": 75,
     "metadata": {},
     "output_type": "execute_result"
    }
   ],
   "source": [
    "tabel_2 = pd.crosstab(customer_data['postal_code'], customer_data['outcome'])\n",
    "tabel_2"
   ]
  },
  {
   "cell_type": "code",
   "execution_count": 67,
   "id": "be898ca8",
   "metadata": {},
   "outputs": [
    {
     "data": {
      "text/plain": [
       "[Text(0.5, 1.0, 'Claim Probability by Living Area'),\n",
       " Text(0, 0.5, 'Claim Probability'),\n",
       " Text(0.5, 0, 'Postal Code')]"
      ]
     },
     "execution_count": 67,
     "metadata": {},
     "output_type": "execute_result"
    },
    {
     "data": {
      "image/png": "[encoded data removed]",
      "text/plain": [
       "<Figure size 640x480 with 1 Axes>"
      ]
     },
     "metadata": {},
     "output_type": "display_data"
    }
   ],
   "source": [
    "ax=sns.histplot(customer_data, x='postal_code', hue='outcome',stat='probability', multiple='fill', shrink=.8,alpha=0.7)\n",
    "ax.set(title='Claim Probability by Living Area',ylabel='Claim Probability',xlabel='Postal Code')"
   ]
  },
  {
   "cell_type": "markdown",
   "id": "0ed13f44",
   "metadata": {},
   "source": [
    "## Hubungan Antar Variabel"
   ]
  },
  {
   "cell_type": "code",
   "execution_count": 76,
   "id": "3ab32f34",
   "metadata": {},
   "outputs": [
    {
     "data": {
      "application/vnd.microsoft.datawrangler.viewer.v0+json": {
       "columns": [
        {
         "name": "postal_code",
         "rawType": "object",
         "type": "string"
        },
        {
         "name": "False",
         "rawType": "int64",
         "type": "integer"
        },
        {
         "name": "True",
         "rawType": "int64",
         "type": "integer"
        }
       ],
       "ref": "3eca9975-1d29-4a96-9d06-64b4eb4c3f05",
       "rows": [
        [
         "10238",
         "2210",
         "4730"
        ],
        [
         "21217",
         "33",
         "87"
        ],
        [
         "32765",
         "731",
         "1725"
        ],
        [
         "92101",
         "138",
         "346"
        ]
       ],
       "shape": {
        "columns": 2,
        "rows": 4
       }
      },
      "text/html": [
       "<div>\n",
       "<style scoped>\n",
       "    .dataframe tbody tr th:only-of-type {\n",
       "        vertical-align: middle;\n",
       "    }\n",
       "\n",
       "    .dataframe tbody tr th {\n",
       "        vertical-align: top;\n",
       "    }\n",
       "\n",
       "    .dataframe thead th {\n",
       "        text-align: right;\n",
       "    }\n",
       "</style>\n",
       "<table border=\"1\" class=\"dataframe\">\n",
       "  <thead>\n",
       "    <tr style=\"text-align: right;\">\n",
       "      <th>children</th>\n",
       "      <th>False</th>\n",
       "      <th>True</th>\n",
       "    </tr>\n",
       "    <tr>\n",
       "      <th>postal_code</th>\n",
       "      <th></th>\n",
       "      <th></th>\n",
       "    </tr>\n",
       "  </thead>\n",
       "  <tbody>\n",
       "    <tr>\n",
       "      <th>10238</th>\n",
       "      <td>2210</td>\n",
       "      <td>4730</td>\n",
       "    </tr>\n",
       "    <tr>\n",
       "      <th>21217</th>\n",
       "      <td>33</td>\n",
       "      <td>87</td>\n",
       "    </tr>\n",
       "    <tr>\n",
       "      <th>32765</th>\n",
       "      <td>731</td>\n",
       "      <td>1725</td>\n",
       "    </tr>\n",
       "    <tr>\n",
       "      <th>92101</th>\n",
       "      <td>138</td>\n",
       "      <td>346</td>\n",
       "    </tr>\n",
       "  </tbody>\n",
       "</table>\n",
       "</div>"
      ],
      "text/plain": [
       "children     False  True\n",
       "postal_code             \n",
       "10238         2210  4730\n",
       "21217           33    87\n",
       "32765          731  1725\n",
       "92101          138   346"
      ]
     },
     "execution_count": 76,
     "metadata": {},
     "output_type": "execute_result"
    }
   ],
   "source": [
    "tabel_3 = pd.crosstab(customer_data['postal_code'], customer_data['children'])\n",
    "tabel_3"
   ]
  },
  {
   "cell_type": "code",
   "execution_count": 80,
   "id": "da71949e",
   "metadata": {},
   "outputs": [
    {
     "data": {
      "application/vnd.microsoft.datawrangler.viewer.v0+json": {
       "columns": [
        {
         "name": "children",
         "rawType": "object",
         "type": "string"
        },
        {
         "name": "False",
         "rawType": "int64",
         "type": "integer"
        },
        {
         "name": "True",
         "rawType": "int64",
         "type": "integer"
        }
       ],
       "ref": "adf6dd37-075a-408e-abc1-9f078122a45e",
       "rows": [
        [
         "False",
         "1637",
         "1475"
        ],
        [
         "True",
         "5230",
         "1658"
        ]
       ],
       "shape": {
        "columns": 2,
        "rows": 2
       }
      },
      "text/html": [
       "<div>\n",
       "<style scoped>\n",
       "    .dataframe tbody tr th:only-of-type {\n",
       "        vertical-align: middle;\n",
       "    }\n",
       "\n",
       "    .dataframe tbody tr th {\n",
       "        vertical-align: top;\n",
       "    }\n",
       "\n",
       "    .dataframe thead th {\n",
       "        text-align: right;\n",
       "    }\n",
       "</style>\n",
       "<table border=\"1\" class=\"dataframe\">\n",
       "  <thead>\n",
       "    <tr style=\"text-align: right;\">\n",
       "      <th>outcome</th>\n",
       "      <th>False</th>\n",
       "      <th>True</th>\n",
       "    </tr>\n",
       "    <tr>\n",
       "      <th>children</th>\n",
       "      <th></th>\n",
       "      <th></th>\n",
       "    </tr>\n",
       "  </thead>\n",
       "  <tbody>\n",
       "    <tr>\n",
       "      <th>False</th>\n",
       "      <td>1637</td>\n",
       "      <td>1475</td>\n",
       "    </tr>\n",
       "    <tr>\n",
       "      <th>True</th>\n",
       "      <td>5230</td>\n",
       "      <td>1658</td>\n",
       "    </tr>\n",
       "  </tbody>\n",
       "</table>\n",
       "</div>"
      ],
      "text/plain": [
       "outcome   False  True \n",
       "children              \n",
       "False      1637   1475\n",
       "True       5230   1658"
      ]
     },
     "execution_count": 80,
     "metadata": {},
     "output_type": "execute_result"
    }
   ],
   "source": [
    "tabel_1\n"
   ]
  },
  {
   "cell_type": "code",
   "execution_count": 81,
   "id": "2a0cfd5c",
   "metadata": {},
   "outputs": [
    {
     "data": {
      "application/vnd.microsoft.datawrangler.viewer.v0+json": {
       "columns": [
        {
         "name": "postal_code",
         "rawType": "object",
         "type": "string"
        },
        {
         "name": "False",
         "rawType": "int64",
         "type": "integer"
        },
        {
         "name": "True",
         "rawType": "int64",
         "type": "integer"
        }
       ],
       "ref": "1ad97835-f15d-41d7-b112-9f61e7996b15",
       "rows": [
        [
         "10238",
         "5054",
         "1886"
        ],
        [
         "21217",
         "0",
         "120"
        ],
        [
         "32765",
         "1529",
         "927"
        ],
        [
         "92101",
         "284",
         "200"
        ]
       ],
       "shape": {
        "columns": 2,
        "rows": 4
       }
      },
      "text/html": [
       "<div>\n",
       "<style scoped>\n",
       "    .dataframe tbody tr th:only-of-type {\n",
       "        vertical-align: middle;\n",
       "    }\n",
       "\n",
       "    .dataframe tbody tr th {\n",
       "        vertical-align: top;\n",
       "    }\n",
       "\n",
       "    .dataframe thead th {\n",
       "        text-align: right;\n",
       "    }\n",
       "</style>\n",
       "<table border=\"1\" class=\"dataframe\">\n",
       "  <thead>\n",
       "    <tr style=\"text-align: right;\">\n",
       "      <th>outcome</th>\n",
       "      <th>False</th>\n",
       "      <th>True</th>\n",
       "    </tr>\n",
       "    <tr>\n",
       "      <th>postal_code</th>\n",
       "      <th></th>\n",
       "      <th></th>\n",
       "    </tr>\n",
       "  </thead>\n",
       "  <tbody>\n",
       "    <tr>\n",
       "      <th>10238</th>\n",
       "      <td>5054</td>\n",
       "      <td>1886</td>\n",
       "    </tr>\n",
       "    <tr>\n",
       "      <th>21217</th>\n",
       "      <td>0</td>\n",
       "      <td>120</td>\n",
       "    </tr>\n",
       "    <tr>\n",
       "      <th>32765</th>\n",
       "      <td>1529</td>\n",
       "      <td>927</td>\n",
       "    </tr>\n",
       "    <tr>\n",
       "      <th>92101</th>\n",
       "      <td>284</td>\n",
       "      <td>200</td>\n",
       "    </tr>\n",
       "  </tbody>\n",
       "</table>\n",
       "</div>"
      ],
      "text/plain": [
       "outcome      False  True \n",
       "postal_code              \n",
       "10238         5054   1886\n",
       "21217            0    120\n",
       "32765         1529    927\n",
       "92101          284    200"
      ]
     },
     "execution_count": 81,
     "metadata": {},
     "output_type": "execute_result"
    }
   ],
   "source": [
    "tabel_2\n"
   ]
  },
  {
   "cell_type": "code",
   "execution_count": 82,
   "id": "a855eca1",
   "metadata": {},
   "outputs": [
    {
     "data": {
      "application/vnd.microsoft.datawrangler.viewer.v0+json": {
       "columns": [
        {
         "name": "postal_code",
         "rawType": "object",
         "type": "string"
        },
        {
         "name": "False",
         "rawType": "int64",
         "type": "integer"
        },
        {
         "name": "True",
         "rawType": "int64",
         "type": "integer"
        }
       ],
       "ref": "765545c5-1716-4d8f-801b-d46e976b41f2",
       "rows": [
        [
         "10238",
         "2210",
         "4730"
        ],
        [
         "21217",
         "33",
         "87"
        ],
        [
         "32765",
         "731",
         "1725"
        ],
        [
         "92101",
         "138",
         "346"
        ]
       ],
       "shape": {
        "columns": 2,
        "rows": 4
       }
      },
      "text/html": [
       "<div>\n",
       "<style scoped>\n",
       "    .dataframe tbody tr th:only-of-type {\n",
       "        vertical-align: middle;\n",
       "    }\n",
       "\n",
       "    .dataframe tbody tr th {\n",
       "        vertical-align: top;\n",
       "    }\n",
       "\n",
       "    .dataframe thead th {\n",
       "        text-align: right;\n",
       "    }\n",
       "</style>\n",
       "<table border=\"1\" class=\"dataframe\">\n",
       "  <thead>\n",
       "    <tr style=\"text-align: right;\">\n",
       "      <th>children</th>\n",
       "      <th>False</th>\n",
       "      <th>True</th>\n",
       "    </tr>\n",
       "    <tr>\n",
       "      <th>postal_code</th>\n",
       "      <th></th>\n",
       "      <th></th>\n",
       "    </tr>\n",
       "  </thead>\n",
       "  <tbody>\n",
       "    <tr>\n",
       "      <th>10238</th>\n",
       "      <td>2210</td>\n",
       "      <td>4730</td>\n",
       "    </tr>\n",
       "    <tr>\n",
       "      <th>21217</th>\n",
       "      <td>33</td>\n",
       "      <td>87</td>\n",
       "    </tr>\n",
       "    <tr>\n",
       "      <th>32765</th>\n",
       "      <td>731</td>\n",
       "      <td>1725</td>\n",
       "    </tr>\n",
       "    <tr>\n",
       "      <th>92101</th>\n",
       "      <td>138</td>\n",
       "      <td>346</td>\n",
       "    </tr>\n",
       "  </tbody>\n",
       "</table>\n",
       "</div>"
      ],
      "text/plain": [
       "children     False  True\n",
       "postal_code             \n",
       "10238         2210  4730\n",
       "21217           33    87\n",
       "32765          731  1725\n",
       "92101          138   346"
      ]
     },
     "execution_count": 82,
     "metadata": {},
     "output_type": "execute_result"
    }
   ],
   "source": [
    "tabel_3"
   ]
  },
  {
   "cell_type": "code",
   "execution_count": 69,
   "id": "657daa47",
   "metadata": {},
   "outputs": [
    {
     "data": {
      "image/png": "[encoded data removed]",
      "text/plain": [
       "<Figure size 800x500 with 2 Axes>"
      ]
     },
     "metadata": {},
     "output_type": "display_data"
    }
   ],
   "source": [
    "# Membuat pivot table untuk children dan postal_code terhadap claim_rate\n",
    "children_postalcode = pd.pivot_table(data=customer_data, index='children',columns='postal_code',values='claim_rate',aggfunc='mean')\n",
    "\n",
    "# Membuat heatmap untuk children dan postal_code terhadap claim_rate\n",
    "plt.figure(figsize=[8,5])\n",
    "sns.heatmap(children_postalcode,annot=True,cmap='coolwarm',center=0.117)\n",
    "plt.title('Korelasi dari Children dan Postal Code terhadap Claim Rate')\n",
    "plt.show()\n"
   ]
  },
  {
   "cell_type": "markdown",
   "id": "2e06e252",
   "metadata": {},
   "source": [
    "## Coba-Coba Kredit Score"
   ]
  },
  {
   "cell_type": "code",
   "execution_count": 70,
   "id": "bb4fc9b9",
   "metadata": {},
   "outputs": [],
   "source": [
    "# Previous data preparation\n",
    "\n",
    "# Input missing values with mean credit score for each income group\n",
    "def input_creditscore(income_classes):\n",
    "    for income_class in income_classes:      \n",
    "        # subset of dataframe to use as filter\n",
    "        filter = customer_data['income'] == income_class\n",
    "        \n",
    "        # calculate the mean for each income group\n",
    "        mean = customer_data[customer_data['income'] == income_class]['credit_score'].mean()\n",
    "        \n",
    "        # input the missing values with mean of credit score for each income group\n",
    "        customer_data.loc[filter,\"credit_score\"] = customer_data.loc[filter,'credit_score'].fillna(mean)\n",
    "\n",
    "income_groups = customer_data['income'].unique()\n",
    "input_creditscore(income_groups)"
   ]
  },
  {
   "cell_type": "code",
   "execution_count": 71,
   "id": "900027c3",
   "metadata": {},
   "outputs": [
    {
     "data": {
      "application/vnd.microsoft.datawrangler.viewer.v0+json": {
       "columns": [
        {
         "name": "index",
         "rawType": "int64",
         "type": "integer"
        },
        {
         "name": "credit_score",
         "rawType": "float64",
         "type": "float"
        }
       ],
       "ref": "2addaa4d-26f5-42fd-a754-8dccc4da2fae",
       "rows": [
        [
         "0",
         "0.629027313918201"
        ],
        [
         "1",
         "0.3577571170184627"
        ],
        [
         "2",
         "0.4931457852181982"
        ],
        [
         "3",
         "0.2060128507324556"
        ],
        [
         "4",
         "0.3883658881572184"
        ],
        [
         "5",
         "0.6191273725847388"
        ],
        [
         "6",
         "0.4929435502195342"
        ],
        [
         "7",
         "0.4686892974344649"
        ],
        [
         "8",
         "0.5218149362971065"
        ],
        [
         "9",
         "0.5615310319383646"
        ],
        [
         "10",
         "0.6203612640126029"
        ],
        [
         "11",
         "0.7298308815593941"
        ],
        [
         "12",
         "0.6370447435902447"
        ],
        [
         "13",
         "0.59125997174597"
        ],
        [
         "14",
         "0.4615679630439447"
        ],
        [
         "15",
         "0.7627979410816134"
        ],
        [
         "16",
         "0.7961748462456987"
        ],
        [
         "17",
         "0.34833133094379165"
        ],
        [
         "18",
         "0.6805942795073384"
        ],
        [
         "19",
         "0.4177139816231188"
        ],
        [
         "20",
         "0.4095135306516067"
        ],
        [
         "21",
         "0.5532600531952381"
        ],
        [
         "22",
         "0.3309502618581893"
        ],
        [
         "23",
         "0.34833133094379165"
        ],
        [
         "24",
         "0.5006306604427161"
        ],
        [
         "25",
         "0.5519701813636283"
        ],
        [
         "26",
         "0.6269960497386653"
        ],
        [
         "27",
         "0.2947974807719967"
        ],
        [
         "28",
         "0.5519504952618395"
        ],
        [
         "29",
         "0.649820471216227"
        ],
        [
         "30",
         "0.5218044346397632"
        ],
        [
         "31",
         "0.7012683240604196"
        ],
        [
         "32",
         "0.1712440288213211"
        ],
        [
         "33",
         "0.3184419972124171"
        ],
        [
         "34",
         "0.6046842696715551"
        ],
        [
         "35",
         "0.5049948526440377"
        ],
        [
         "36",
         "0.6251466352816216"
        ],
        [
         "37",
         "0.5236585383213972"
        ],
        [
         "38",
         "0.613826977680088"
        ],
        [
         "39",
         "0.5781305873212035"
        ],
        [
         "40",
         "0.7054542902137054"
        ],
        [
         "41",
         "0.6595254905875941"
        ],
        [
         "42",
         "0.5873836120460223"
        ],
        [
         "43",
         "0.4064824253974476"
        ],
        [
         "44",
         "0.2857471319596469"
        ],
        [
         "45",
         "0.5022849652731057"
        ],
        [
         "46",
         "0.6256257210210231"
        ],
        [
         "47",
         "0.613826977680088"
        ],
        [
         "48",
         "0.3931531299744003"
        ],
        [
         "49",
         "0.5039497598168121"
        ]
       ],
       "shape": {
        "columns": 1,
        "rows": 10000
       }
      },
      "text/plain": [
       "0       0.629027\n",
       "1       0.357757\n",
       "2       0.493146\n",
       "3       0.206013\n",
       "4       0.388366\n",
       "          ...   \n",
       "9995    0.582787\n",
       "9996    0.522231\n",
       "9997    0.470940\n",
       "9998    0.364185\n",
       "9999    0.435225\n",
       "Name: credit_score, Length: 10000, dtype: float64"
      ]
     },
     "execution_count": 71,
     "metadata": {},
     "output_type": "execute_result"
    }
   ],
   "source": [
    "customer_data['credit_score']"
   ]
  },
  {
   "cell_type": "code",
   "execution_count": 72,
   "id": "59ba4642",
   "metadata": {},
   "outputs": [
    {
     "data": {
      "text/plain": [
       "np.int64(0)"
      ]
     },
     "execution_count": 72,
     "metadata": {},
     "output_type": "execute_result"
    }
   ],
   "source": [
    "pd.isnull(customer_data['credit_score']).sum()"
   ]
  },
  {
   "cell_type": "code",
   "execution_count": 73,
   "id": "fa102d70",
   "metadata": {},
   "outputs": [
    {
     "data": {
      "image/png": "[encoded data removed]",
      "text/plain": [
       "<Figure size 800x500 with 2 Axes>"
      ]
     },
     "metadata": {},
     "output_type": "display_data"
    }
   ],
   "source": [
    "# Buat pivot table\n",
    "pivot = pd.pivot_table(\n",
    "    data=customer_data,\n",
    "    index='children',\n",
    "    columns='postal_code',\n",
    "    values=['credit_score', 'claim_rate'],\n",
    "    aggfunc='mean'\n",
    ")\n",
    "\n",
    "# Membuat heatmap untuk children dan postal_code terhadap claim_rate\n",
    "plt.figure(figsize=[8,5])\n",
    "sns.heatmap(pivot,annot=True,cmap='coolwarm',center=0.117)\n",
    "plt.title('Korelasi dari Children dan Postal Code terhadap Claim Rate')\n",
    "plt.show()"
   ]
  }
 ],
 "metadata": {
  "kernelspec": {
   "display_name": "Python 3",
   "language": "python",
   "name": "python3"
  },
  "language_info": {
   "codemirror_mode": {
    "name": "ipython",
    "version": 3
   },
   "file_extension": ".py",
   "mimetype": "text/x-python",
   "name": "python",
   "nbconvert_exporter": "python",
   "pygments_lexer": "ipython3",
   "version": "3.13.4"
  }
 },
 "nbformat": 4,
 "nbformat_minor": 5
}
