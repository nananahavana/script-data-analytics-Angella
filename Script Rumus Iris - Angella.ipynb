{
 "cells": [
  {
   "cell_type": "markdown",
   "id": "900c40b8",
   "metadata": {},
   "source": [
    "### Memanggil Data Iris"
   ]
  },
  {
   "cell_type": "code",
   "execution_count": 36,
   "id": "52f37c1e",
   "metadata": {},
   "outputs": [
    {
     "data": {
      "application/vnd.microsoft.datawrangler.viewer.v0+json": {
       "columns": [
        {
         "name": "index",
         "rawType": "int64",
         "type": "integer"
        },
        {
         "name": "Id",
         "rawType": "int64",
         "type": "integer"
        },
        {
         "name": "SepalLengthCm",
         "rawType": "float64",
         "type": "float"
        },
        {
         "name": "SepalWidthCm",
         "rawType": "float64",
         "type": "float"
        },
        {
         "name": "PetalLengthCm",
         "rawType": "float64",
         "type": "float"
        },
        {
         "name": "PetalWidthCm",
         "rawType": "float64",
         "type": "float"
        },
        {
         "name": "Species",
         "rawType": "object",
         "type": "string"
        }
       ],
       "ref": "71740e80-56ae-43f7-84f0-ab893e1d562a",
       "rows": [
        [
         "0",
         "1",
         "5.1",
         "3.5",
         "1.4",
         "0.2",
         "Iris-setosa"
        ],
        [
         "1",
         "2",
         "4.9",
         "3.0",
         "1.4",
         "0.2",
         "Iris-setosa"
        ],
        [
         "2",
         "3",
         "4.7",
         "3.2",
         "1.3",
         "0.2",
         "Iris-setosa"
        ],
        [
         "3",
         "4",
         "4.6",
         "3.1",
         "1.5",
         "0.2",
         "Iris-setosa"
        ],
        [
         "4",
         "5",
         "5.0",
         "3.6",
         "1.4",
         "0.2",
         "Iris-setosa"
        ]
       ],
       "shape": {
        "columns": 6,
        "rows": 5
       }
      },
      "text/html": [
       "<div>\n",
       "<style scoped>\n",
       "    .dataframe tbody tr th:only-of-type {\n",
       "        vertical-align: middle;\n",
       "    }\n",
       "\n",
       "    .dataframe tbody tr th {\n",
       "        vertical-align: top;\n",
       "    }\n",
       "\n",
       "    .dataframe thead th {\n",
       "        text-align: right;\n",
       "    }\n",
       "</style>\n",
       "<table border=\"1\" class=\"dataframe\">\n",
       "  <thead>\n",
       "    <tr style=\"text-align: right;\">\n",
       "      <th></th>\n",
       "      <th>Id</th>\n",
       "      <th>SepalLengthCm</th>\n",
       "      <th>SepalWidthCm</th>\n",
       "      <th>PetalLengthCm</th>\n",
       "      <th>PetalWidthCm</th>\n",
       "      <th>Species</th>\n",
       "    </tr>\n",
       "  </thead>\n",
       "  <tbody>\n",
       "    <tr>\n",
       "      <th>0</th>\n",
       "      <td>1</td>\n",
       "      <td>5.1</td>\n",
       "      <td>3.5</td>\n",
       "      <td>1.4</td>\n",
       "      <td>0.2</td>\n",
       "      <td>Iris-setosa</td>\n",
       "    </tr>\n",
       "    <tr>\n",
       "      <th>1</th>\n",
       "      <td>2</td>\n",
       "      <td>4.9</td>\n",
       "      <td>3.0</td>\n",
       "      <td>1.4</td>\n",
       "      <td>0.2</td>\n",
       "      <td>Iris-setosa</td>\n",
       "    </tr>\n",
       "    <tr>\n",
       "      <th>2</th>\n",
       "      <td>3</td>\n",
       "      <td>4.7</td>\n",
       "      <td>3.2</td>\n",
       "      <td>1.3</td>\n",
       "      <td>0.2</td>\n",
       "      <td>Iris-setosa</td>\n",
       "    </tr>\n",
       "    <tr>\n",
       "      <th>3</th>\n",
       "      <td>4</td>\n",
       "      <td>4.6</td>\n",
       "      <td>3.1</td>\n",
       "      <td>1.5</td>\n",
       "      <td>0.2</td>\n",
       "      <td>Iris-setosa</td>\n",
       "    </tr>\n",
       "    <tr>\n",
       "      <th>4</th>\n",
       "      <td>5</td>\n",
       "      <td>5.0</td>\n",
       "      <td>3.6</td>\n",
       "      <td>1.4</td>\n",
       "      <td>0.2</td>\n",
       "      <td>Iris-setosa</td>\n",
       "    </tr>\n",
       "  </tbody>\n",
       "</table>\n",
       "</div>"
      ],
      "text/plain": [
       "   Id  SepalLengthCm  SepalWidthCm  PetalLengthCm  PetalWidthCm      Species\n",
       "0   1            5.1           3.5            1.4           0.2  Iris-setosa\n",
       "1   2            4.9           3.0            1.4           0.2  Iris-setosa\n",
       "2   3            4.7           3.2            1.3           0.2  Iris-setosa\n",
       "3   4            4.6           3.1            1.5           0.2  Iris-setosa\n",
       "4   5            5.0           3.6            1.4           0.2  Iris-setosa"
      ]
     },
     "execution_count": 36,
     "metadata": {},
     "output_type": "execute_result"
    }
   ],
   "source": [
    "import pandas as pd\n",
    "\n",
    "df = pd.read_csv('Iris.csv')\n",
    "df.head()"
   ]
  },
  {
   "cell_type": "code",
   "execution_count": 3,
   "id": "aed0d6c9",
   "metadata": {},
   "outputs": [
    {
     "name": "stdout",
     "output_type": "stream",
     "text": [
      "5.843333333333334\n",
      "5.8\n",
      "5.0\n",
      "0.6811222222222223\n",
      "3.6000000000000005\n"
     ]
    }
   ],
   "source": [
    "import numpy as np\n",
    "import statistics as st\n",
    "\n",
    "dataset = df['SepalLengthCm']\n",
    "\n",
    "print(np.mean(dataset))\n",
    "print(np.median(dataset))\n",
    "print(st.mode(dataset))\n",
    "print(np.var(dataset))\n",
    "print(np.ptp(dataset))"
   ]
  },
  {
   "cell_type": "markdown",
   "id": "3113db87",
   "metadata": {},
   "source": [
    "### Membuat Rumus Rata-Rata"
   ]
  },
  {
   "cell_type": "code",
   "execution_count": 7,
   "id": "6982d7d8",
   "metadata": {},
   "outputs": [],
   "source": [
    "def avg(data):\n",
    "    if not data:\n",
    "        return 0\n",
    "    \n",
    "    valid_number = [x for x in data if isinstance(x, (int, float)) and x is not None]\n",
    "    #hanya data dengan jenis int atau float yang dapat dihitung rata-ratanya\n",
    "    if not valid_number:\n",
    "        return 0  \n",
    "\n",
    "    total = sum(valid_number)\n",
    "    observation = len(valid_number)\n",
    "    hitung_avg = total / observation\n",
    "    return hitung_avg\n"
   ]
  },
  {
   "cell_type": "code",
   "execution_count": 12,
   "id": "3ed53a81",
   "metadata": {},
   "outputs": [
    {
     "name": "stdout",
     "output_type": "stream",
     "text": [
      "Rata-rata dari Petal Length (cm): 3.758666666666666\n"
     ]
    }
   ],
   "source": [
    "rata2 = avg(df['PetalLengthCm'].tolist())\n",
    "print(\"Rata-rata dari Petal Length (cm):\", rata2)"
   ]
  },
  {
   "cell_type": "markdown",
   "id": "19efec65",
   "metadata": {},
   "source": [
    "### Membuat Rumus Median"
   ]
  },
  {
   "cell_type": "code",
   "execution_count": 11,
   "id": "aa92598d",
   "metadata": {},
   "outputs": [],
   "source": [
    "def median(data):\n",
    "    if not isinstance(data, list):\n",
    "        raise TypeError(\"Input harus berupa list\")\n",
    "\n",
    "    # Filter hanya angka valid\n",
    "    valid_number = sorted([x for x in data if isinstance(x, (int, float)) and x is not None])\n",
    "    n = len(valid_number)\n",
    "\n",
    "    if n == 0:\n",
    "        return 0\n",
    "\n",
    "    med = n // 2\n",
    "\n",
    "    if n % 2 == 1:  # jumlah data ganjil\n",
    "        return valid_number[med]\n",
    "    else:  # jumlah data genap\n",
    "        return (valid_number[med - 1] + valid_number[med]) / 2\n"
   ]
  },
  {
   "cell_type": "code",
   "execution_count": 13,
   "id": "afde580c",
   "metadata": {},
   "outputs": [
    {
     "name": "stdout",
     "output_type": "stream",
     "text": [
      "Median dari Petal Length (cm): 4.35\n"
     ]
    }
   ],
   "source": [
    "median_data = median(df['PetalLengthCm'].tolist())\n",
    "print(\"Median dari Petal Length (cm):\", median_data)"
   ]
  },
  {
   "cell_type": "markdown",
   "id": "9986cd97",
   "metadata": {},
   "source": [
    "### Membuat Rumus Modus"
   ]
  },
  {
   "cell_type": "code",
   "execution_count": 18,
   "id": "2d4d67a5",
   "metadata": {},
   "outputs": [],
   "source": [
    "def modus(data):\n",
    "    if not isinstance(data, list):\n",
    "        raise TypeError(\"Input harus berupa list\")\n",
    "\n",
    "    # Ambil hanya angka valid\n",
    "    valid_number = [x for x in data if isinstance(x, (int, float)) and x is not None]\n",
    "    \n",
    "    if not valid_number:\n",
    "        return None  # atau return 0, tergantung kebutuhan\n",
    "\n",
    "    frekuensi = {}\n",
    "    for angka in valid_number:\n",
    "        if angka in frekuensi:\n",
    "            frekuensi[angka] += 1\n",
    "        else:\n",
    "            frekuensi[angka] = 1\n",
    "\n",
    "    max_freq = max(frekuensi.values())\n",
    "    hitung_modus = [angka for angka, freq in frekuensi.items() if freq == max_freq]\n",
    "\n",
    "    # Kalau hanya satu modus, kembalikan angkanya langsung\n",
    "    return hitung_modus[0] if len(hitung_modus) == 1 else hitung_modus\n"
   ]
  },
  {
   "cell_type": "code",
   "execution_count": 19,
   "id": "2272b282",
   "metadata": {},
   "outputs": [
    {
     "name": "stdout",
     "output_type": "stream",
     "text": [
      "Modus dari Petal Length (cm): 1.5\n"
     ]
    }
   ],
   "source": [
    "modus_data = modus(df['PetalLengthCm'].tolist())\n",
    "print(\"Modus dari Petal Length (cm):\", modus_data)"
   ]
  },
  {
   "cell_type": "markdown",
   "id": "ef8188b0",
   "metadata": {},
   "source": [
    "### Membuat Rumus Varians"
   ]
  },
  {
   "cell_type": "code",
   "execution_count": null,
   "id": "d7470b81",
   "metadata": {},
   "outputs": [],
   "source": [
    "def varians(data, sampel=False):\n",
    "    valid_number = [x for x in data if isinstance(x, (int, float)) and x is not None]\n",
    "    n = len(valid_number)\n",
    "    \n",
    "    if n == 0:\n",
    "        return 0\n",
    "\n",
    "    rata2 = avg(valid_number) #pake rumus rata-rata yang udah dibuat sebelumnya\n",
    "    jumlah_selisih_kuadrat = sum((x - rata2) ** 2 for x in valid_number)\n",
    "\n",
    "    if sampel and n > 1:\n",
    "        return jumlah_selisih_kuadrat / (n - 1)\n",
    "    else:\n",
    "        return jumlah_selisih_kuadrat / n"
   ]
  },
  {
   "cell_type": "code",
   "execution_count": 21,
   "id": "027dc031",
   "metadata": {},
   "outputs": [
    {
     "name": "stdout",
     "output_type": "stream",
     "text": [
      "Varians dari Petal Length (cm): 3.0924248888888886\n"
     ]
    }
   ],
   "source": [
    "varians_data = varians(df['PetalLengthCm'].tolist())\n",
    "print(\"Varians dari Petal Length (cm):\", varians_data)"
   ]
  },
  {
   "cell_type": "markdown",
   "id": "2b6030f0",
   "metadata": {},
   "source": [
    "### Membuat Rumus Range"
   ]
  },
  {
   "cell_type": "code",
   "execution_count": 22,
   "id": "0b07a9d2",
   "metadata": {},
   "outputs": [],
   "source": [
    "def range(data):\n",
    "    # Filter hanya angka valid\n",
    "    valid_number = [x for x in data if isinstance(x, (int, float)) and x is not None]\n",
    "    \n",
    "    if not valid_number:\n",
    "        return 0 \n",
    "\n",
    "    return max(valid_number) - min(valid_number)\n"
   ]
  },
  {
   "cell_type": "code",
   "execution_count": 23,
   "id": "3dfc404c",
   "metadata": {},
   "outputs": [
    {
     "name": "stdout",
     "output_type": "stream",
     "text": [
      "Range dari Petal Length (cm): 5.9\n"
     ]
    }
   ],
   "source": [
    "range_data = range(df['PetalLengthCm'].tolist())\n",
    "print(\"Range dari Petal Length (cm):\", range_data)"
   ]
  },
  {
   "cell_type": "markdown",
   "id": "de00de1b",
   "metadata": {},
   "source": [
    "### Membuat Rumus Kuartil"
   ]
  },
  {
   "cell_type": "code",
   "execution_count": 34,
   "id": "ada22ac6",
   "metadata": {},
   "outputs": [],
   "source": [
    "def kuartil(data):\n",
    "    valid_number = sorted([x for x in data if isinstance(x, (int, float)) and x is not None])\n",
    "    n = len(valid_number)\n",
    "\n",
    "    if n == 0:\n",
    "        return (0, 0)\n",
    "\n",
    "    if n % 2 == 0:\n",
    "        bawah = valid_number[:n // 2]\n",
    "        atas = valid_number[n // 2:]\n",
    "    else:\n",
    "        bawah = valid_number[:n // 2]\n",
    "        atas = valid_number[n // 2 + 1:]\n",
    "\n",
    "    Q1 = median(bawah) #pake rumus median yang udah dibuat sebelumnya\n",
    "    Q3 = median(atas) #pake rumus median yang udah dibuat sebelumnya\n",
    "    IQR = Q3 - Q1\n",
    "\n",
    "    return Q1, Q3, IQR\n"
   ]
  },
  {
   "cell_type": "code",
   "execution_count": 37,
   "id": "0e94c7bd",
   "metadata": {},
   "outputs": [
    {
     "name": "stdout",
     "output_type": "stream",
     "text": [
      "Q1 dari Petal Length (cm): 1.6\n",
      "Q3 dari Petal Length (cm): 5.1\n",
      "IQR dari Petal Length (cm): 3.4999999999999996\n"
     ]
    }
   ],
   "source": [
    "Q1, Q3, IQR = kuartil(df['PetalLengthCm'].tolist())\n",
    "print(\"Q1 dari Petal Length (cm):\", Q1)\n",
    "print(\"Q3 dari Petal Length (cm):\", Q3)\n",
    "print(\"IQR dari Petal Length (cm):\", IQR)"
   ]
  },
  {
   "cell_type": "markdown",
   "id": "71710b74",
   "metadata": {},
   "source": [
    "### Mendeteksi Outlier"
   ]
  },
  {
   "cell_type": "code",
   "execution_count": null,
   "id": "7667712f",
   "metadata": {},
   "outputs": [
    {
     "name": "stdout",
     "output_type": "stream",
     "text": [
      "Lower bound: -3.649999999999999\n",
      "Upper bound: 10.349999999999998\n"
     ]
    }
   ],
   "source": [
    "#Hitung batas bawah dan atas\n",
    "lower_bound = Q1 - 1.5 * IQR\n",
    "upper_bound = Q3 + 1.5 * IQR\n",
    "\n",
    "print(\"Lower bound:\", lower_bound)\n",
    "print(\"Upper bound:\", upper_bound)\n",
    "\n",
    "#Filter Data\n",
    "filtered = df.query(\"@lower_bound <= PetalLengthCm <= @upper_bound\")"
   ]
  },
  {
   "cell_type": "code",
   "execution_count": 43,
   "id": "31380d6b",
   "metadata": {},
   "outputs": [
    {
     "data": {
      "image/png": "[encoded data removed]",
      "text/plain": [
       "<Figure size 640x480 with 1 Axes>"
      ]
     },
     "metadata": {},
     "output_type": "display_data"
    }
   ],
   "source": [
    "import matplotlib.pyplot as plt\n",
    "import pandas as pd\n",
    "\n",
    "# Buat DataFrame baru untuk membandingkan data\n",
    "boxplot_df = pd.DataFrame({\n",
    "    'Sebelum Filter': df['PetalLengthCm'],\n",
    "    'Sesudah Filter': filtered['PetalLengthCm']\n",
    "})\n",
    "\n",
    "# Buat boxplot berdampingan\n",
    "boxplot_df.boxplot()\n",
    "plt.title('Boxplot PetalLengthCm\\nSebelum dan Sesudah Filter Outlier')\n",
    "plt.ylabel('Petal Length (cm)')\n",
    "plt.grid(True)\n",
    "plt.show()\n",
    "\n"
   ]
  },
  {
   "cell_type": "markdown",
   "id": "0d6651b1",
   "metadata": {},
   "source": [
    "### Menambahkan Data Outlier"
   ]
  },
  {
   "cell_type": "code",
   "execution_count": 45,
   "id": "dd0ff9b5",
   "metadata": {},
   "outputs": [
    {
     "name": "stdout",
     "output_type": "stream",
     "text": [
      "      Id  SepalLengthCm  SepalWidthCm  PetalLengthCm  PetalWidthCm  \\\n",
      "0      1            5.1           3.5            1.4           0.2   \n",
      "1      2            4.9           3.0            1.4           0.2   \n",
      "2      3            4.7           3.2            1.3           0.2   \n",
      "3      4            4.6           3.1            1.5           0.2   \n",
      "4      5            5.0           3.6            1.4           0.2   \n",
      "..   ...            ...           ...            ...           ...   \n",
      "147  148            6.5           3.0            5.2           2.0   \n",
      "148  149            6.2           3.4            5.4           2.3   \n",
      "149  150            5.9           3.0            5.1           1.8   \n",
      "150  150           18.0           6.0           15.0           7.0   \n",
      "151  150           18.0           6.0           15.0           7.0   \n",
      "\n",
      "            Species  \n",
      "0       Iris-setosa  \n",
      "1       Iris-setosa  \n",
      "2       Iris-setosa  \n",
      "3       Iris-setosa  \n",
      "4       Iris-setosa  \n",
      "..              ...  \n",
      "147  Iris-virginica  \n",
      "148  Iris-virginica  \n",
      "149  Iris-virginica  \n",
      "150     Iris-setosa  \n",
      "151     Iris-setosa  \n",
      "\n",
      "[152 rows x 6 columns]\n"
     ]
    }
   ],
   "source": [
    "import pandas as pd\n",
    "\n",
    "new_data = {\n",
    "    'Id': 150,\n",
    "    'SepalLengthCm': 18,\n",
    "    'SepalWidthCm': 6,\n",
    "    'PetalLengthCm': 15,\n",
    "    'PetalWidthCm': 7,\n",
    "    'Species': 'Iris-setosa'\n",
    "}\n",
    "\n",
    "#Tambahkan observasi baru ke data frame\n",
    "df2 = pd.concat([df, pd.DataFrame([new_data])], ignore_index=True)\n",
    "\n",
    "# Lihat hasil\n",
    "print(df2)"
   ]
  },
  {
   "cell_type": "markdown",
   "id": "6908d1fb",
   "metadata": {},
   "source": [
    "### Mendeteksi Outlier di Data Terbaru"
   ]
  },
  {
   "cell_type": "code",
   "execution_count": 47,
   "id": "33453d3f",
   "metadata": {},
   "outputs": [
    {
     "name": "stdout",
     "output_type": "stream",
     "text": [
      "Q1 dari Petal Length (cm): 1.6\n",
      "Q3 dari Petal Length (cm): 5.1\n",
      "IQR dari Petal Length (cm): 3.4999999999999996\n"
     ]
    }
   ],
   "source": [
    "Q1_2, Q3_2, IQR_2 = kuartil(df2['PetalLengthCm'].tolist())\n",
    "print(\"Q1 dari Petal Length (cm):\", Q1_2)\n",
    "print(\"Q3 dari Petal Length (cm):\", Q3_2)\n",
    "print(\"IQR dari Petal Length (cm):\", IQR_2)"
   ]
  },
  {
   "cell_type": "code",
   "execution_count": 50,
   "id": "e52ce5d5",
   "metadata": {},
   "outputs": [
    {
     "name": "stdout",
     "output_type": "stream",
     "text": [
      "Lower bound: -3.649999999999999\n",
      "Upper bound: 10.349999999999998\n"
     ]
    }
   ],
   "source": [
    "#Hitung batas bawah dan atas\n",
    "lower_bound2 = Q1 - 1.5 * IQR_2\n",
    "upper_bound2 = Q3 + 1.5 * IQR_2\n",
    "\n",
    "print(\"Lower bound:\", lower_bound2)\n",
    "print(\"Upper bound:\", upper_bound2)\n",
    "\n",
    "#Filter Data\n",
    "filtered2 = df2.query(\"@lower_bound <= PetalLengthCm <= @upper_bound\")"
   ]
  },
  {
   "cell_type": "code",
   "execution_count": 51,
   "id": "2c5eb7d1",
   "metadata": {},
   "outputs": [
    {
     "data": {
      "image/png": "[encoded data removed]",
      "text/plain": [
       "<Figure size 640x480 with 1 Axes>"
      ]
     },
     "metadata": {},
     "output_type": "display_data"
    }
   ],
   "source": [
    "import matplotlib.pyplot as plt\n",
    "import pandas as pd\n",
    "\n",
    "# Buat DataFrame baru untuk membandingkan data\n",
    "boxplot_df2 = pd.DataFrame({\n",
    "    'Sebelum Filter': df2['PetalLengthCm'],\n",
    "    'Sesudah Filter': filtered2['PetalLengthCm']\n",
    "})\n",
    "\n",
    "# Buat boxplot berdampingan\n",
    "boxplot_df2.boxplot()\n",
    "plt.title('Boxplot PetalLengthCm\\nSebelum dan Sesudah Filter Outlier')\n",
    "plt.ylabel('Petal Length (cm)')\n",
    "plt.grid(True)\n",
    "plt.show()"
   ]
  }
 ],
 "metadata": {
  "kernelspec": {
   "display_name": "Python 3",
   "language": "python",
   "name": "python3"
  },
  "language_info": {
   "codemirror_mode": {
    "name": "ipython",
    "version": 3
   },
   "file_extension": ".py",
   "mimetype": "text/x-python",
   "name": "python",
   "nbconvert_exporter": "python",
   "pygments_lexer": "ipython3",
   "version": "3.13.4"
  }
 },
 "nbformat": 4,
 "nbformat_minor": 5
}
